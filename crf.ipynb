{
 "cells": [
  {
   "cell_type": "code",
   "execution_count": 1,
   "metadata": {},
   "outputs": [],
   "source": [
    "import subprocess\n",
    "import os"
   ]
  },
  {
   "cell_type": "code",
   "execution_count": 14,
   "metadata": {},
   "outputs": [],
   "source": [
    "def get_data(file_name,p = 0.6,add_intent = False):\n",
    "#     with open(\"./data/{}.train\".format(file_name),'r') as f:\n",
    "    with open(\"./data/train_data/{}.train\".format(file_name),'r') as f:\n",
    "\n",
    "        lines = f.readlines()\n",
    "\n",
    "    train_x = []\n",
    "    train_y = []\n",
    "    x = []; y = []\n",
    "    for line in lines:\n",
    "        line = line.strip().split('\\t')\n",
    "        if(len(line)>1):\n",
    "            x.append(line[0])\n",
    "            y.append(line[1])\n",
    "        else:\n",
    "            if add_intent:\n",
    "                x.append('intent');y.append('B-'+file_name+'_intent')\n",
    "            train_x.append(x);train_y.append(y)\n",
    "            x = [];y = []\n",
    "    if(x!=[]):\n",
    "        if add_intent:\n",
    "            x.append('intent');y.append('B-'+file_name+'_intent')\n",
    "        train_x.append(x);train_y.append(y)\n",
    "    nums = len(train_x)\n",
    "    x_train = train_x[0:int(p*nums)];x_valid = train_x[int(0.8*nums):int(0.9*nums)];x_test = train_x[int(0.9*nums):]\n",
    "    y_train = train_y[0:int(p*nums)];y_valid = train_y[int(0.8*nums):int(0.9*nums)];y_test = train_y[int(0.9*nums):]\n",
    "#     x_train,x_test,y_train,y_test = train_test_split(train_x,train_y,test_size=0.1,random_state = 0)\n",
    "#     x_train,x_valid,y_train,y_valid = train_test_split(x_train,y_train,test_size = 0.1,random_state = 0)\n",
    "    return x_train,x_valid,x_test,y_train,y_valid,y_test"
   ]
  },
  {
   "cell_type": "code",
   "execution_count": 15,
   "metadata": {},
   "outputs": [],
   "source": [
    "def process_data(x_train,x_valid,x_test,y_train,y_valid,y_test,file_name,p=0.6):\n",
    "    lines = []\n",
    "    for i in range(len(x_train)):\n",
    "        for j in range(len(x_train[i])):\n",
    "            lines.append(x_train[i][j]+' '+y_train[i][j]+'\\n')\n",
    "        lines.append('\\n')\n",
    "    with open(\"./data/crf_data/{}_{}.train.crf\".format(file_name,str(p)),'w') as f:\n",
    "        f.write(''.join(lines))\n",
    "    lines = []    \n",
    "    for i in range(len(x_test)):\n",
    "        lines.append('\\n'.join(x_test[i])+'\\n\\n')\n",
    "    with open(\"./data/crf_data/{}_{}.test.crf\".format(file_name,str(p)),'w') as f:\n",
    "        f.write(''.join(lines))"
   ]
  },
  {
   "cell_type": "code",
   "execution_count": 18,
   "metadata": {},
   "outputs": [],
   "source": [
    "def get_combined_data(p=0.6,add_intent = True):\n",
    "    x_train = [];x_valid=[];x_test=[];y_train=[];y_valid=[];y_test=[]\n",
    "    for file_name in ['ask_price','time_delay']:\n",
    "        x_train_t,x_valid_t,x_test_t,y_train_t,y_valid_t,y_test_t = get_data(file_name,p,add_intent)\n",
    "        x_train.extend(x_train_t);x_valid.extend(x_valid_t);x_test.extend(x_test_t)\n",
    "        y_train.extend(y_train_t);y_valid.extend(y_valid_t);y_test.extend(y_test_t)\n",
    "    return x_train,x_valid,x_test,y_train,y_valid,y_test"
   ]
  },
  {
   "cell_type": "code",
   "execution_count": 19,
   "metadata": {},
   "outputs": [],
   "source": [
    "def get_combined_data_sep_label(p=0.6):\n",
    "    x_train = [];x_valid=[];x_test=[];y_train=[];y_valid=[];y_test=[]\n",
    "    for file_name in ['ask_price','time_delay','price']:\n",
    "        x_train_t,x_valid_t,x_test_t,y_train_t,y_valid_t,y_test_t = get_data(file_name,p)\n",
    "\n",
    "        y_train_t = [[i.replace('price','price.{}'.format(file_name)) for i in sample] for sample in y_train_t]\n",
    "        y_valid_t = [[i.replace('price','price.{}'.format(file_name)) for i in sample] for sample in y_valid_t]\n",
    "        y_test_t = [[i.replace('price','price.{}'.format(file_name)) for i in sample] for sample in y_test_t]\n",
    "        \n",
    "        x_train.extend(x_train_t);x_valid.extend(x_valid_t);x_test.extend(x_test_t)\n",
    "        y_train.extend(y_train_t);y_valid.extend(y_valid_t);y_test.extend(y_test_t)\n",
    "    return x_train,x_valid,x_test,y_train,y_valid,y_test"
   ]
  },
  {
   "cell_type": "code",
   "execution_count": 20,
   "metadata": {},
   "outputs": [],
   "source": [
    "for file_name in ['ask_price','time_delay','price']:\n",
    "    for p in [0.4,0.8]:\n",
    "        process_data(*get_data(file_name,p),file_name,p)"
   ]
  },
  {
   "cell_type": "code",
   "execution_count": 21,
   "metadata": {},
   "outputs": [],
   "source": [
    "for p in [0.4,0.8]:\n",
    "    process_data(*get_combined_data(p),'combine_same',p)\n",
    "    process_data(*get_combined_data_sep_label(p),'combine_diff',p)"
   ]
  },
  {
   "cell_type": "code",
   "execution_count": 225,
   "metadata": {
    "scrolled": true
   },
   "outputs": [],
   "source": [
    "def evaluate_crf(file_name,p=0.6):\n",
    "    x_train,x_valid,x_test,y_train,y_valid,y_test = get_data(file_name,p)\n",
    "    with open(\"./data/crf_data/re/{}_{}.re.crf\".format(file_name,str(p)),'r') as f:\n",
    "        lines = f.readlines()\n",
    "    test_re = []\n",
    "    y = []\n",
    "    for line in lines:\n",
    "        line = line.strip().split('\\t')\n",
    "        if(len(line)>1):\n",
    "            y.append(line[1])\n",
    "        else:\n",
    "            test_re.append(y)\n",
    "            y =[]\n",
    "    if(y!=[]):\n",
    "        test_re.append(y)\n",
    "    print(classification_report(y_test,test_re,digits=4))\n",
    "    if(file_name!=''):\n",
    "        pred_test = test_re\n",
    "        test_re = [list(zip(x_test[i],y_test[i],pred_test[i])) for i in range(len(x_test))]\n",
    "        for i in range(len(test_re)):\n",
    "            test_re[i] = ['\\t'.join(t) for t in test_re[i]]\n",
    "            test_re[i] = '\\n'.join(test_re[i]) + '\\n'\n",
    "        with open('./data/test_re/{}_{}_predict_crf.txt'.format(file_name,p),'w') as f:\n",
    "            f.write('\\n'.join(test_re)) "
   ]
  },
  {
   "cell_type": "code",
   "execution_count": 226,
   "metadata": {},
   "outputs": [],
   "source": [
    "def evaluate_crf_combine(x_train,x_valid,x_test,y_train,y_valid,y_test,file_name,p=0.6):\n",
    "    with open(\"./data/crf_data/re/{}_{}.re.crf\".format(file_name,str(p)),'r') as f:\n",
    "        lines = f.readlines()\n",
    "    test_re = []\n",
    "    y = []\n",
    "    for line in lines:\n",
    "        line = line.strip().split('\\t')\n",
    "        if(len(line)>1):\n",
    "            y.append(line[1])\n",
    "        else:\n",
    "            test_re.append(y)\n",
    "            y =[]\n",
    "    if(y!=[]):\n",
    "        test_re.append(y)\n",
    "    print(classification_report(y_test,test_re,digits=4))"
   ]
  },
  {
   "cell_type": "code",
   "execution_count": 250,
   "metadata": {
    "scrolled": true
   },
   "outputs": [],
   "source": [
    "for file_name in ['ask_price','time_delay','price','combine_same','combine_diff']:\n",
    "    for p in [0.4,0.8]:\n",
    "        train_data_path = \"./data/crf_data/{}_{}.train.crf\".format(file_name,str(p))\n",
    "        test_data_path = \"./data/crf_data/{}_{}.test.crf\".format(file_name,str(p))\n",
    "        pred_path =  \"./data/crf_data/re/{}_{}.re.crf\".format(file_name,str(p))\n",
    "\n",
    "        model_name = './data/crf_data/model/{}_{}.model'.format(file_name,str(p))\n",
    "#         crf_train = \"crf_learn -f 3 -c 4.0 crf++/template.txt {} {}\".format(train_data_path, model_name)\n",
    "#         process = subprocess.Popen(crf_train.split(), stdout=subprocess.PIPE)\n",
    "#         output = process.communicate()[0]     \n",
    "        crf_train = \"crf_learn -f 3 -c 4.0 crf++/template.txt {} {}\".format(train_data_path, model_name)\n",
    "        crf_test = \"crf_test -m {} {} > {}\".format(model_name,test_data_path,pred_path)     \n",
    "        os.system(crf_train)\n",
    "        os.system(crf_test)\n",
    "#         process = subprocess.Popen(crf_test, stdout=subprocess.PIPE)\n",
    "#         output = process.communicate()[0]"
   ]
  },
  {
   "cell_type": "code",
   "execution_count": 251,
   "metadata": {},
   "outputs": [],
   "source": [
    "# crf_learn -f 3 -c 4.0 template.txt ../data/crf_data/price_0.6.train.crf price_model\n",
    "# crf_test -m price_model ../data/crf_data/price_0.6.test.crf > price_0.6_re.txt"
   ]
  },
  {
   "cell_type": "code",
   "execution_count": 252,
   "metadata": {},
   "outputs": [
    {
     "name": "stdout",
     "output_type": "stream",
     "text": [
      "           precision    recall  f1-score   support\n",
      "\n",
      "    price     0.9202    0.8099    0.8615       242\n",
      "\n",
      "micro avg     0.9202    0.8099    0.8615       242\n",
      "macro avg     0.9202    0.8099    0.8615       242\n",
      "\n",
      "           precision    recall  f1-score   support\n",
      "\n",
      "    price     0.9559    0.9378    0.9468       370\n",
      "\n",
      "micro avg     0.9559    0.9378    0.9468       370\n",
      "macro avg     0.9559    0.9378    0.9468       370\n",
      "\n",
      "           precision    recall  f1-score   support\n",
      "\n",
      "    price     0.8196    0.8275    0.8235       313\n",
      "\n",
      "micro avg     0.8196    0.8275    0.8235       313\n",
      "macro avg     0.8196    0.8275    0.8235       313\n",
      "\n"
     ]
    }
   ],
   "source": [
    "for file_name in ['ask_price','time_delay','price']:\n",
    "    evaluate_crf(file_name,p=0.4)"
   ]
  },
  {
   "cell_type": "code",
   "execution_count": 253,
   "metadata": {},
   "outputs": [
    {
     "name": "stdout",
     "output_type": "stream",
     "text": [
      "           precision    recall  f1-score   support\n",
      "\n",
      "    price     0.9286    0.8595    0.8927       242\n",
      "\n",
      "micro avg     0.9286    0.8595    0.8927       242\n",
      "macro avg     0.9286    0.8595    0.8927       242\n",
      "\n",
      "           precision    recall  f1-score   support\n",
      "\n",
      "    price     0.9591    0.9514    0.9552       370\n",
      "\n",
      "micro avg     0.9591    0.9514    0.9552       370\n",
      "macro avg     0.9591    0.9514    0.9552       370\n",
      "\n",
      "           precision    recall  f1-score   support\n",
      "\n",
      "    price     0.8449    0.8530    0.8490       313\n",
      "\n",
      "micro avg     0.8449    0.8530    0.8490       313\n",
      "macro avg     0.8449    0.8530    0.8490       313\n",
      "\n"
     ]
    }
   ],
   "source": [
    "for file_name in ['ask_price','time_delay','price']:\n",
    "    evaluate_crf(file_name,p=0.8)"
   ]
  },
  {
   "cell_type": "code",
   "execution_count": 234,
   "metadata": {},
   "outputs": [
    {
     "name": "stdout",
     "output_type": "stream",
     "text": [
      "           precision    recall  f1-score   support\n",
      "\n",
      "    price     0.8955    0.8897    0.8926       925\n",
      "\n",
      "micro avg     0.8955    0.8897    0.8926       925\n",
      "macro avg     0.8955    0.8897    0.8926       925\n",
      "\n",
      "                  precision    recall  f1-score   support\n",
      "\n",
      "price.time_delay     0.8469    0.7027    0.7681       370\n",
      " price.ask_price     0.7243    0.5537    0.6276       242\n",
      "     price.price     0.5814    0.7188    0.6429       313\n",
      "\n",
      "       micro avg     0.7042    0.6692    0.6863       925\n",
      "       macro avg     0.7250    0.6692    0.6890       925\n",
      "\n",
      "           precision    recall  f1-score   support\n",
      "\n",
      "    price     0.8980    0.8854    0.8917       925\n",
      "\n",
      "micro avg     0.8980    0.8854    0.8917       925\n",
      "macro avg     0.8980    0.8854    0.8917       925\n",
      "\n",
      "                  precision    recall  f1-score   support\n",
      "\n",
      "price.time_delay     0.8509    0.7405    0.7919       370\n",
      " price.ask_price     0.7616    0.5413    0.6329       242\n",
      "     price.price     0.6154    0.7923    0.6927       313\n",
      "\n",
      "       micro avg     0.7280    0.7059    0.7168       925\n",
      "       macro avg     0.7479    0.7059    0.7167       925\n",
      "\n"
     ]
    }
   ],
   "source": [
    "for p in [0.4,0.8]:\n",
    "    evaluate_crf_combine(*get_combined_data(p),'combine_same',p)\n",
    "    evaluate_crf_combine(*get_combined_data_sep_label(p),'combine_diff',p)"
   ]
  }
 ],
 "metadata": {
  "kernelspec": {
   "display_name": "python-torch",
   "language": "python",
   "name": "pytorch"
  },
  "language_info": {
   "codemirror_mode": {
    "name": "ipython",
    "version": 3
   },
   "file_extension": ".py",
   "mimetype": "text/x-python",
   "name": "python",
   "nbconvert_exporter": "python",
   "pygments_lexer": "ipython3",
   "version": "3.6.2"
  }
 },
 "nbformat": 4,
 "nbformat_minor": 4
}
